{
 "cells": [
  {
   "cell_type": "code",
   "execution_count": 0,
   "metadata": {
    "colab": {},
    "colab_type": "code",
    "id": "Dlo_x3xkZHHK"
   },
   "outputs": [],
   "source": [
    "# import all the essentials \n",
    "\n",
    "import numpy as np\n",
    "import pandas as pd\n",
    "import matplotlib.pyplot as plt\n",
    "from sklearn.naive_bayes import GaussianNB\n",
    "from sklearn.neural_network import MLPClassifier\n",
    "from sklearn.preprocessing import StandardScaler, MinMaxScaler, LabelEncoder\n",
    "from sklearn.model_selection import cross_val_score\n",
    "from sklearn.decomposition import PCA\n",
    "from keras.models import Sequential\n",
    "from keras.layers import Dense\n",
    "from keras.wrappers.scikit_learn import KerasClassifier\n",
    "from tqdm import tqdm"
   ]
  },
  {
   "cell_type": "code",
   "execution_count": 0,
   "metadata": {
    "colab": {},
    "colab_type": "code",
    "id": "NwfOZADOfAwp"
   },
   "outputs": [],
   "source": [
    "# import data\n",
    "# please provide the appropriate path in order to load 'gisette_train.data' and 'gisette_train.labels' files\n",
    "\n",
    "f=open('/content/drive/My Drive/Python_projects/_ML_coursework/gisette_train.data',\"r\")\n",
    "data=[]\n",
    "for row in f.readlines():\n",
    "    data.append((row.strip()).split(\" \"))\n",
    "f.close()\n",
    "\n",
    "# import labels\n",
    "f= open(\"/content/drive/My Drive/Python_projects/_ML_coursework/gisette_train.labels\")\n",
    "labels=[]\n",
    "for row in f.readlines():\n",
    "    labels.append((row.strip()).split(\" \"))\n",
    "f.close()"
   ]
  },
  {
   "cell_type": "code",
   "execution_count": 0,
   "metadata": {
    "colab": {},
    "colab_type": "code",
    "id": "gwP1_Zl-fLWp"
   },
   "outputs": [],
   "source": [
    "# data and labels to arrays\n",
    "\n",
    "data_unscaled = np.array(data).astype(int)\n",
    "labels = np.array(labels).astype(int)\n",
    "labels = labels[:,0]"
   ]
  },
  {
   "cell_type": "code",
   "execution_count": 0,
   "metadata": {
    "colab": {
     "base_uri": "https://localhost:8080/",
     "height": 187
    },
    "colab_type": "code",
    "id": "y6iKt9_RfSOx",
    "outputId": "56a48473-3d48-4b6e-f0c0-062a58395d15"
   },
   "outputs": [
    {
     "data": {
      "text/plain": [
       "(array([[550,   0, 495, ...,   0,   0, 983],\n",
       "        [  0,   0,   0, ...,   0,   0,   0],\n",
       "        [  0,   0,   0, ...,   0,   0,   0],\n",
       "        ...,\n",
       "        [  0,   0,   0, ...,   0,   0,   0],\n",
       "        [  0,   0,   0, ...,   0,   0,   0],\n",
       "        [  0,   0, 991, ...,   0,   0, 991]]),\n",
       " (6000, 5000),\n",
       " array([ 1, -1,  1, ..., -1, -1, -1]),\n",
       " (6000,))"
      ]
     },
     "execution_count": 4,
     "metadata": {
      "tags": []
     },
     "output_type": "execute_result"
    }
   ],
   "source": [
    "# lets have a look \n",
    "\n",
    "data_unscaled, data_unscaled.shape, labels, labels.shape"
   ]
  },
  {
   "cell_type": "code",
   "execution_count": 0,
   "metadata": {
    "colab": {},
    "colab_type": "code",
    "id": "GRE8v3kNfWE4"
   },
   "outputs": [],
   "source": [
    "# Data preprocessing\n",
    "\n",
    "scaler_ss = StandardScaler()\n",
    "scaler_mms = MinMaxScaler()\n",
    "label_encoder = LabelEncoder()\n",
    "\n",
    "data_scaled_ss = scaler_ss.fit_transform(data_unscaled)\n",
    "data_scaled_mms = scaler_mms.fit_transform(data_unscaled)\n",
    "labels = label_encoder.fit_transform(labels) # tranform labels from -1 & 1 to 0 & 1 \n",
    "\n",
    "data = [data_unscaled, data_scaled_ss, data_scaled_mms ]"
   ]
  },
  {
   "cell_type": "code",
   "execution_count": 0,
   "metadata": {
    "colab": {
     "base_uri": "https://localhost:8080/",
     "height": 136
    },
    "colab_type": "code",
    "id": "OOGZaTh_gbCy",
    "outputId": "23756806-5652-4953-e307-87a85b6d89b3"
   },
   "outputs": [
    {
     "name": "stderr",
     "output_type": "stream",
     "text": [
      "[Parallel(n_jobs=1)]: Using backend SequentialBackend with 1 concurrent workers.\n",
      "[Parallel(n_jobs=1)]: Done  20 out of  20 | elapsed:   13.2s finished\n",
      "[Parallel(n_jobs=1)]: Using backend SequentialBackend with 1 concurrent workers.\n",
      "[Parallel(n_jobs=1)]: Done  20 out of  20 | elapsed:   10.7s finished\n",
      "[Parallel(n_jobs=1)]: Using backend SequentialBackend with 1 concurrent workers.\n",
      "[Parallel(n_jobs=1)]: Done  20 out of  20 | elapsed:   10.7s finished\n"
     ]
    },
    {
     "data": {
      "text/plain": [
       "[0.7324999999999999, 0.7111666666666667, 0.7313333333333332]"
      ]
     },
     "execution_count": 6,
     "metadata": {
      "tags": []
     },
     "output_type": "execute_result"
    }
   ],
   "source": [
    "# import Naive Bayes model \n",
    "\n",
    "nb_clf = GaussianNB()\n",
    "accuracies_naive_bayes_guassian = []\n",
    "\n",
    "# cross validation for data unscaled and scaled with Standard and Min Max scaler\n",
    "for dt in data:\n",
    "  scores = cross_val_score(nb_clf, dt ,labels ,scoring='accuracy',verbose=1,cv=20)\n",
    "  accuracies_naive_bayes_guassian.append(np.mean(scores)) \n",
    "\n",
    "accuracies_naive_bayes_guassian"
   ]
  },
  {
   "cell_type": "code",
   "execution_count": 0,
   "metadata": {
    "colab": {
     "base_uri": "https://localhost:8080/",
     "height": 80
    },
    "colab_type": "code",
    "id": "I4Tk4w2BkNf8",
    "outputId": "582b1762-53aa-4169-9ca4-f119a7cf2400"
   },
   "outputs": [
    {
     "name": "stderr",
     "output_type": "stream",
     "text": [
      "Using TensorFlow backend.\n"
     ]
    },
    {
     "data": {
      "text/html": [
       "<p style=\"color: red;\">\n",
       "The default version of TensorFlow in Colab will soon switch to TensorFlow 2.x.<br>\n",
       "We recommend you <a href=\"https://www.tensorflow.org/guide/migrate\" target=\"_blank\">upgrade</a> now \n",
       "or ensure your notebook will continue to use TensorFlow 1.x via the <code>%tensorflow_version 1.x</code> magic:\n",
       "<a href=\"https://colab.research.google.com/notebooks/tensorflow_version.ipynb\" target=\"_blank\">more info</a>.</p>\n"
      ],
      "text/plain": [
       "<IPython.core.display.HTML object>"
      ]
     },
     "metadata": {
      "tags": []
     },
     "output_type": "display_data"
    }
   ],
   "source": [
    "# Neural Networks\n",
    "\n",
    "# create model\n",
    "def create_network():\n",
    "  model = Sequential()\n",
    "  model.add(Dense(output_dim = 20, init = 'uniform', activation = 'relu', input_dim = 5000))\n",
    "  model.add(Dense(output_dim = 1, init = 'uniform', activation = 'sigmoid'))\n",
    "  #Compile model\n",
    "  model.compile(loss='binary_crossentropy', optimizer='adam', metrics=['accuracy'])\n",
    "  return model\n",
    "\n",
    "# Wrap Keras model so it can be used by scikit-learn\n",
    "nn_clf = KerasClassifier(build_fn=create_network, \n",
    "                                 epochs=10, \n",
    "                                 batch_size=100, \n",
    "                                 verbose=0)\n"
   ]
  },
  {
   "cell_type": "code",
   "execution_count": 0,
   "metadata": {
    "colab": {
     "base_uri": "https://localhost:8080/",
     "height": 717
    },
    "colab_type": "code",
    "id": "ngiZOmtgnBcG",
    "outputId": "7e1dd7d6-905d-462e-ffd9-26ed4d9c6e0b"
   },
   "outputs": [
    {
     "name": "stdout",
     "output_type": "stream",
     "text": [
      "WARNING:tensorflow:From /usr/local/lib/python3.6/dist-packages/keras/backend/tensorflow_backend.py:66: The name tf.get_default_graph is deprecated. Please use tf.compat.v1.get_default_graph instead.\n",
      "\n",
      "WARNING:tensorflow:From /usr/local/lib/python3.6/dist-packages/keras/backend/tensorflow_backend.py:541: The name tf.placeholder is deprecated. Please use tf.compat.v1.placeholder instead.\n",
      "\n",
      "WARNING:tensorflow:From /usr/local/lib/python3.6/dist-packages/keras/backend/tensorflow_backend.py:4432: The name tf.random_uniform is deprecated. Please use tf.random.uniform instead.\n",
      "\n",
      "WARNING:tensorflow:From /usr/local/lib/python3.6/dist-packages/keras/optimizers.py:793: The name tf.train.Optimizer is deprecated. Please use tf.compat.v1.train.Optimizer instead.\n",
      "\n",
      "WARNING:tensorflow:From /usr/local/lib/python3.6/dist-packages/keras/backend/tensorflow_backend.py:3657: The name tf.log is deprecated. Please use tf.math.log instead.\n",
      "\n",
      "WARNING:tensorflow:From /usr/local/lib/python3.6/dist-packages/tensorflow_core/python/ops/nn_impl.py:183: where (from tensorflow.python.ops.array_ops) is deprecated and will be removed in a future version.\n",
      "Instructions for updating:\n",
      "Use tf.where in 2.0, which has the same broadcast rule as np.where\n"
     ]
    },
    {
     "name": "stderr",
     "output_type": "stream",
     "text": [
      "[Parallel(n_jobs=1)]: Using backend SequentialBackend with 1 concurrent workers.\n",
      "/usr/local/lib/python3.6/dist-packages/ipykernel_launcher.py:10: UserWarning: Update your `Dense` call to the Keras 2 API: `Dense(activation=\"relu\", input_dim=5000, units=20, kernel_initializer=\"uniform\")`\n",
      "  # Remove the CWD from sys.path while we load stuff.\n",
      "/usr/local/lib/python3.6/dist-packages/ipykernel_launcher.py:11: UserWarning: Update your `Dense` call to the Keras 2 API: `Dense(activation=\"sigmoid\", units=1, kernel_initializer=\"uniform\")`\n",
      "  # This is added back by InteractiveShellApp.init_path()\n"
     ]
    },
    {
     "name": "stdout",
     "output_type": "stream",
     "text": [
      "WARNING:tensorflow:From /usr/local/lib/python3.6/dist-packages/keras/backend/tensorflow_backend.py:1033: The name tf.assign_add is deprecated. Please use tf.compat.v1.assign_add instead.\n",
      "\n",
      "WARNING:tensorflow:From /usr/local/lib/python3.6/dist-packages/keras/backend/tensorflow_backend.py:1020: The name tf.assign is deprecated. Please use tf.compat.v1.assign instead.\n",
      "\n",
      "WARNING:tensorflow:From /usr/local/lib/python3.6/dist-packages/keras/backend/tensorflow_backend.py:3005: The name tf.Session is deprecated. Please use tf.compat.v1.Session instead.\n",
      "\n",
      "WARNING:tensorflow:From /usr/local/lib/python3.6/dist-packages/keras/backend/tensorflow_backend.py:190: The name tf.get_default_session is deprecated. Please use tf.compat.v1.get_default_session instead.\n",
      "\n",
      "WARNING:tensorflow:From /usr/local/lib/python3.6/dist-packages/keras/backend/tensorflow_backend.py:197: The name tf.ConfigProto is deprecated. Please use tf.compat.v1.ConfigProto instead.\n",
      "\n",
      "WARNING:tensorflow:From /usr/local/lib/python3.6/dist-packages/keras/backend/tensorflow_backend.py:207: The name tf.global_variables is deprecated. Please use tf.compat.v1.global_variables instead.\n",
      "\n",
      "WARNING:tensorflow:From /usr/local/lib/python3.6/dist-packages/keras/backend/tensorflow_backend.py:216: The name tf.is_variable_initialized is deprecated. Please use tf.compat.v1.is_variable_initialized instead.\n",
      "\n",
      "WARNING:tensorflow:From /usr/local/lib/python3.6/dist-packages/keras/backend/tensorflow_backend.py:223: The name tf.variables_initializer is deprecated. Please use tf.compat.v1.variables_initializer instead.\n",
      "\n"
     ]
    },
    {
     "name": "stderr",
     "output_type": "stream",
     "text": [
      "[Parallel(n_jobs=1)]: Done  20 out of  20 | elapsed:  2.0min finished\n",
      "[Parallel(n_jobs=1)]: Using backend SequentialBackend with 1 concurrent workers.\n",
      "[Parallel(n_jobs=1)]: Done  20 out of  20 | elapsed:  2.7min finished\n",
      "[Parallel(n_jobs=1)]: Using backend SequentialBackend with 1 concurrent workers.\n",
      "[Parallel(n_jobs=1)]: Done  20 out of  20 | elapsed:  3.3min finished\n"
     ]
    },
    {
     "data": {
      "text/plain": [
       "[0.9431666666666667, 0.9790000000000003, 0.9751666666666667]"
      ]
     },
     "execution_count": 8,
     "metadata": {
      "tags": []
     },
     "output_type": "execute_result"
    }
   ],
   "source": [
    "# cross validation for data unscaled and scaled with Standard and Min Max scaler\n",
    "\n",
    "accuracies_neural_net = []\n",
    "\n",
    "for dt in data:\n",
    "  scores = cross_val_score(nn_clf, dt ,labels ,scoring='accuracy',verbose=1,cv=20)\n",
    "  accuracies_neural_net.append(np.mean(scores)) \n",
    "\n",
    "accuracies_neural_net"
   ]
  },
  {
   "cell_type": "code",
   "execution_count": 0,
   "metadata": {
    "colab": {
     "base_uri": "https://localhost:8080/",
     "height": 545
    },
    "colab_type": "code",
    "id": "bleLfZXAnVo0",
    "outputId": "f0d9d3c1-a462-41ba-ecd6-677aba8b23bc"
   },
   "outputs": [
    {
     "data": {
      "image/png": "[encoded data removed]",
      "text/plain": [
       "<Figure size 432x288 with 1 Axes>"
      ]
     },
     "metadata": {
      "tags": []
     },
     "output_type": "display_data"
    },
    {
     "data": {
      "image/png": "[encoded data removed]",
      "text/plain": [
       "<Figure size 432x288 with 1 Axes>"
      ]
     },
     "metadata": {
      "tags": []
     },
     "output_type": "display_data"
    }
   ],
   "source": [
    "# Visuals for accuracies before PCA for each scaling \n",
    "\n",
    "data_scaler_names = ['Unscaled', 'Standard', 'MinMax']\n",
    "\n",
    "# Naive Bayes\n",
    "y_pos = np.arange(len(data_scaler_names))\n",
    "plt.barh(y_pos,accuracies_naive_bayes_guassian ,color='blue')\n",
    "plt.title('Naive Bayes Guassian before PCA')\n",
    "plt.yticks(y_pos, data_scaler_names)\n",
    "plt.show()\n",
    "\n",
    "# Neural Network \n",
    "y_pos = np.arange(len(data_scaler_names))\n",
    "plt.barh(y_pos,accuracies_neural_net ,color='blue')\n",
    "plt.title('Neural Network before PCA')\n",
    "plt.yticks(y_pos, data_scaler_names)\n",
    "plt.show()"
   ]
  },
  {
   "cell_type": "code",
   "execution_count": 0,
   "metadata": {
    "colab": {
     "base_uri": "https://localhost:8080/",
     "height": 295
    },
    "colab_type": "code",
    "id": "Rd2o5oyYp3Ns",
    "outputId": "43681977-d792-4f3d-d89a-c3605d6deaf7"
   },
   "outputs": [
    {
     "data": {
      "image/png": "[encoded data removed]",
      "text/plain": [
       "<Figure size 432x288 with 1 Axes>"
      ]
     },
     "metadata": {
      "tags": []
     },
     "output_type": "display_data"
    }
   ],
   "source": [
    "# PCA\n",
    "\n",
    "# Perform pca on data for all scaling methods \n",
    "pca_n_comp_no_scaler = PCA().fit(data_unscaled)\n",
    "pca_n_comp_ss = PCA().fit(data_scaled_ss)\n",
    "pca_n_comp_mms = PCA().fit(data_scaled_mms)\n",
    "\n",
    "\n",
    "# Plot the cumsum ratio in order to decide how many components could be the optimal number of principal components\n",
    "## A better plot is provided in an extra file using pyplot since we cannot use interactive visual on google colab :'(\n",
    "plt.figure()\n",
    "plt.plot(np.cumsum(pca_n_comp_no_scaler.explained_variance_ratio_))\n",
    "plt.plot(np.cumsum(pca_n_comp_ss.explained_variance_ratio_))\n",
    "plt.plot(np.cumsum(pca_n_comp_mms.explained_variance_ratio_))\n",
    "plt.legend(['Unscaled', 'Standard Scaler', 'MinMax Scaler'], loc='lower right')\n",
    "plt.xlabel('Number of Components')\n",
    "plt.ylabel('Variance (%)') #for each component\n",
    "plt.title('Explained Variance')\n",
    "plt.show()"
   ]
  },
  {
   "cell_type": "code",
   "execution_count": 0,
   "metadata": {
    "colab": {},
    "colab_type": "code",
    "id": "iYA2Cj_zsbLE"
   },
   "outputs": [],
   "source": [
    "# Fit Transform data with 3000 components for each scalar method\n",
    "\n",
    "pca = PCA(n_components=3000)\n",
    "\n",
    "principal_components_unscaled_a = pca.fit_transform(data_unscaled) #Unscaled\n",
    "principal_components_ss_a = pca.fit_transform(data_scaled_ss) #Standard Scaler\n",
    "principal_components_mms_a = pca.fit_transform(data_scaled_mms) #MinMax Scaler\n",
    "\n",
    "pca_data_3000 = [principal_components_unscaled_a, principal_components_ss_a, principal_components_mms_a]"
   ]
  },
  {
   "cell_type": "code",
   "execution_count": 0,
   "metadata": {
    "colab": {},
    "colab_type": "code",
    "id": "_ifENd-KArKb"
   },
   "outputs": [],
   "source": [
    "# Fit Transform data with 1800 components for each scalar method\n",
    "\n",
    "pca = PCA(n_components=1800)\n",
    "\n",
    "principal_components_unscaled_b = pca.fit_transform(data_unscaled) #Unscaled\n",
    "principal_components_ss_b = pca.fit_transform(data_scaled_ss) #Standard Scaler\n",
    "principal_components_mms_b = pca.fit_transform(data_scaled_mms) #MinMax Scaler\n",
    "\n",
    "pca_data_1800 = [principal_components_unscaled_b, principal_components_ss_b, principal_components_mms_b]"
   ]
  },
  {
   "cell_type": "code",
   "execution_count": 0,
   "metadata": {
    "colab": {},
    "colab_type": "code",
    "id": "7GCNZlACArUb"
   },
   "outputs": [],
   "source": [
    "# Fit Transform data with 1330 components for each scalar method\n",
    "\n",
    "pca = PCA(n_components=1330)\n",
    "\n",
    "principal_components_unscaled_c = pca.fit_transform(data_unscaled) #Unscaled\n",
    "principal_components_ss_c = pca.fit_transform(data_scaled_ss) #Standard Scaler\n",
    "principal_components_mms_c = pca.fit_transform(data_scaled_mms) #MinMax Scaler\n",
    "\n",
    "pca_data_1330 = [principal_components_unscaled_c, principal_components_ss_c, principal_components_mms_c]"
   ]
  },
  {
   "cell_type": "code",
   "execution_count": 0,
   "metadata": {
    "colab": {
     "base_uri": "https://localhost:8080/",
     "height": 136
    },
    "colab_type": "code",
    "id": "X_H9wB1mufkT",
    "outputId": "a0be144a-da50-46d0-ca4f-1ab760ecdec2"
   },
   "outputs": [
    {
     "name": "stderr",
     "output_type": "stream",
     "text": [
      "[Parallel(n_jobs=1)]: Using backend SequentialBackend with 1 concurrent workers.\n",
      "[Parallel(n_jobs=1)]: Done  20 out of  20 | elapsed:    6.8s finished\n",
      "[Parallel(n_jobs=1)]: Using backend SequentialBackend with 1 concurrent workers.\n",
      "[Parallel(n_jobs=1)]: Done  20 out of  20 | elapsed:    6.8s finished\n",
      "[Parallel(n_jobs=1)]: Using backend SequentialBackend with 1 concurrent workers.\n",
      "[Parallel(n_jobs=1)]: Done  20 out of  20 | elapsed:    6.7s finished\n"
     ]
    },
    {
     "data": {
      "text/plain": [
       "[0.8026666666666668, 0.5795000000000001, 0.8010000000000002]"
      ]
     },
     "execution_count": 15,
     "metadata": {
      "tags": []
     },
     "output_type": "execute_result"
    }
   ],
   "source": [
    "# Naive Bayes after PCA 3000\n",
    "## cross validation for data unscaled and scaled with Standard and Min Max scaler\n",
    "\n",
    "accuracies_naive_bayes_guassian_pca_3000 = []\n",
    "\n",
    "for dt in pca_data_3000:\n",
    "  scores = cross_val_score(nb_clf, dt ,labels ,scoring='accuracy',verbose=1,cv=20)\n",
    "  accuracies_naive_bayes_guassian_pca_3000.append(np.mean(scores)) \n",
    "\n",
    "accuracies_naive_bayes_guassian_pca_3000"
   ]
  },
  {
   "cell_type": "code",
   "execution_count": 0,
   "metadata": {
    "colab": {
     "base_uri": "https://localhost:8080/",
     "height": 136
    },
    "colab_type": "code",
    "id": "qy_YytmuPPLY",
    "outputId": "334725b8-896a-432c-956c-8941440d451e"
   },
   "outputs": [
    {
     "name": "stderr",
     "output_type": "stream",
     "text": [
      "[Parallel(n_jobs=1)]: Using backend SequentialBackend with 1 concurrent workers.\n",
      "[Parallel(n_jobs=1)]: Done  20 out of  20 | elapsed:    4.1s finished\n",
      "[Parallel(n_jobs=1)]: Using backend SequentialBackend with 1 concurrent workers.\n",
      "[Parallel(n_jobs=1)]: Done  20 out of  20 | elapsed:    4.2s finished\n",
      "[Parallel(n_jobs=1)]: Using backend SequentialBackend with 1 concurrent workers.\n",
      "[Parallel(n_jobs=1)]: Done  20 out of  20 | elapsed:    4.2s finished\n"
     ]
    },
    {
     "data": {
      "text/plain": [
       "[0.8496666666666668, 0.58, 0.8495000000000001]"
      ]
     },
     "execution_count": 16,
     "metadata": {
      "tags": []
     },
     "output_type": "execute_result"
    }
   ],
   "source": [
    "# Naive Bayes after PCA 1800\n",
    "## cross validation for data unscaled and scaled with Standard and Min Max scaler\n",
    "\n",
    "accuracies_naive_bayes_guassian_pca_1800 = []\n",
    "\n",
    "for dt in pca_data_1800:\n",
    "  scores = cross_val_score(nb_clf, dt ,labels ,scoring='accuracy',verbose=1,cv=20)\n",
    "  accuracies_naive_bayes_guassian_pca_1800.append(np.mean(scores)) \n",
    "\n",
    "accuracies_naive_bayes_guassian_pca_1800"
   ]
  },
  {
   "cell_type": "code",
   "execution_count": 0,
   "metadata": {
    "colab": {
     "base_uri": "https://localhost:8080/",
     "height": 136
    },
    "colab_type": "code",
    "id": "mabrL_biPPU5",
    "outputId": "281eb730-3809-48ba-b2c3-83feeada421c"
   },
   "outputs": [
    {
     "name": "stderr",
     "output_type": "stream",
     "text": [
      "[Parallel(n_jobs=1)]: Using backend SequentialBackend with 1 concurrent workers.\n",
      "[Parallel(n_jobs=1)]: Done  20 out of  20 | elapsed:    3.1s finished\n",
      "[Parallel(n_jobs=1)]: Using backend SequentialBackend with 1 concurrent workers.\n",
      "[Parallel(n_jobs=1)]: Done  20 out of  20 | elapsed:    3.1s finished\n",
      "[Parallel(n_jobs=1)]: Using backend SequentialBackend with 1 concurrent workers.\n",
      "[Parallel(n_jobs=1)]: Done  20 out of  20 | elapsed:    3.1s finished\n"
     ]
    },
    {
     "data": {
      "text/plain": [
       "[0.8528333333333332, 0.5821666666666667, 0.8573333333333334]"
      ]
     },
     "execution_count": 17,
     "metadata": {
      "tags": []
     },
     "output_type": "execute_result"
    }
   ],
   "source": [
    "# Naive Bayes after PCA 1330\n",
    "## cross validation for data unscaled and scaled with Standard and Min Max scaler\n",
    "\n",
    "accuracies_naive_bayes_guassian_pca_1330 = []\n",
    "\n",
    "for dt in pca_data_1330:\n",
    "  scores = cross_val_score(nb_clf, dt ,labels ,scoring='accuracy',verbose=1,cv=20)\n",
    "  accuracies_naive_bayes_guassian_pca_1330.append(np.mean(scores)) \n",
    "\n",
    "accuracies_naive_bayes_guassian_pca_1330"
   ]
  },
  {
   "cell_type": "code",
   "execution_count": 0,
   "metadata": {
    "colab": {},
    "colab_type": "code",
    "id": "OWa1FtopwWxQ"
   },
   "outputs": [],
   "source": [
    "# Neural Network after PCA must change the Number of inputs to 3000\n",
    "\n",
    "# create model\n",
    "def create_network_pca_3000():\n",
    "  model = Sequential()\n",
    "  model.add(Dense(output_dim = 20, init = 'uniform', activation = 'relu', input_dim = 3000))\n",
    "  model.add(Dense(output_dim = 1, init = 'uniform', activation = 'sigmoid'))\n",
    "  #Compile model\n",
    "  model.compile(loss='binary_crossentropy', optimizer='adam', metrics=['accuracy'])\n",
    "  return model\n",
    "\n",
    "# Wrap Keras model so it can be used by scikit-learn\n",
    "nn_clf_pca_3000 = KerasClassifier(build_fn=create_network_pca_3000, \n",
    "                                 epochs=10, \n",
    "                                 batch_size=100, \n",
    "                                 verbose=0)\n"
   ]
  },
  {
   "cell_type": "code",
   "execution_count": 0,
   "metadata": {
    "colab": {},
    "colab_type": "code",
    "id": "Dm0b4y79fma4"
   },
   "outputs": [],
   "source": [
    "# Neural Network after PCA must change the Number of inputs to 1800\n",
    "\n",
    "# create model\n",
    "def create_network_pca_1800():\n",
    "  model = Sequential()\n",
    "  model.add(Dense(output_dim = 20, init = 'uniform', activation = 'relu', input_dim = 1800))\n",
    "  model.add(Dense(output_dim = 1, init = 'uniform', activation = 'sigmoid'))\n",
    "  #Compile model\n",
    "  model.compile(loss='binary_crossentropy', optimizer='adam', metrics=['accuracy'])\n",
    "  return model\n",
    "\n",
    "# Wrap Keras model so it can be used by scikit-learn\n",
    "nn_clf_pca_1800 = KerasClassifier(build_fn=create_network_pca_1800, \n",
    "                                 epochs=10, \n",
    "                                 batch_size=100, \n",
    "                                 verbose=0)"
   ]
  },
  {
   "cell_type": "code",
   "execution_count": 0,
   "metadata": {
    "colab": {},
    "colab_type": "code",
    "id": "cUQvwiubfmkc"
   },
   "outputs": [],
   "source": [
    "# Neural Network after PCA must change the Number of inputs to 1330\n",
    "\n",
    "# create model\n",
    "def create_network_pca_1330():\n",
    "  model = Sequential()\n",
    "  model.add(Dense(output_dim = 20, init = 'uniform', activation = 'relu', input_dim = 1330))\n",
    "  model.add(Dense(output_dim = 1, init = 'uniform', activation = 'sigmoid'))\n",
    "  #Compile model\n",
    "  model.compile(loss='binary_crossentropy', optimizer='adam', metrics=['accuracy'])\n",
    "  return model\n",
    "\n",
    "# Wrap Keras model so it can be used by scikit-learn\n",
    "nn_clf_pca_1330 = KerasClassifier(build_fn=create_network_pca_1330, \n",
    "                                 epochs=10, \n",
    "                                 batch_size=100, \n",
    "                                 verbose=0)"
   ]
  },
  {
   "cell_type": "code",
   "execution_count": 0,
   "metadata": {
    "colab": {
     "base_uri": "https://localhost:8080/",
     "height": 224
    },
    "colab_type": "code",
    "id": "wtwe1VEXvbda",
    "outputId": "1c5a3528-6142-4aac-a06f-30cc1cb237f7"
   },
   "outputs": [
    {
     "name": "stderr",
     "output_type": "stream",
     "text": [
      "[Parallel(n_jobs=1)]: Using backend SequentialBackend with 1 concurrent workers.\n",
      "/usr/local/lib/python3.6/dist-packages/ipykernel_launcher.py:9: UserWarning: Update your `Dense` call to the Keras 2 API: `Dense(activation=\"relu\", input_dim=3000, units=20, kernel_initializer=\"uniform\")`\n",
      "  if __name__ == '__main__':\n",
      "/usr/local/lib/python3.6/dist-packages/ipykernel_launcher.py:10: UserWarning: Update your `Dense` call to the Keras 2 API: `Dense(activation=\"sigmoid\", units=1, kernel_initializer=\"uniform\")`\n",
      "  # Remove the CWD from sys.path while we load stuff.\n",
      "[Parallel(n_jobs=1)]: Done  20 out of  20 | elapsed:  3.5min finished\n",
      "[Parallel(n_jobs=1)]: Using backend SequentialBackend with 1 concurrent workers.\n",
      "[Parallel(n_jobs=1)]: Done  20 out of  20 | elapsed:  4.1min finished\n",
      "[Parallel(n_jobs=1)]: Using backend SequentialBackend with 1 concurrent workers.\n",
      "[Parallel(n_jobs=1)]: Done  20 out of  20 | elapsed:  4.7min finished\n"
     ]
    },
    {
     "data": {
      "text/plain": [
       "[0.9426666666666665, 0.9775, 0.9796666666666667]"
      ]
     },
     "execution_count": 21,
     "metadata": {
      "tags": []
     },
     "output_type": "execute_result"
    }
   ],
   "source": [
    "# Neural Network after PCA 3000\n",
    "# cross validation for data unscaled and scaled with Standard and Min Max scaler\n",
    "\n",
    "accuracies_neural_net_pca_3000 = []\n",
    "\n",
    "for dt in pca_data_3000:\n",
    "  scores = cross_val_score(nn_clf_pca_3000, dt ,labels ,scoring='accuracy',verbose=1,cv=20)\n",
    "  accuracies_neural_net_pca_3000.append(np.mean(scores)) \n",
    "\n",
    "accuracies_neural_net_pca_3000"
   ]
  },
  {
   "cell_type": "code",
   "execution_count": 0,
   "metadata": {
    "colab": {
     "base_uri": "https://localhost:8080/",
     "height": 224
    },
    "colab_type": "code",
    "id": "GW_Hwj_JQlgP",
    "outputId": "b1ec811d-8dec-47b0-e670-1daa5be4c31e"
   },
   "outputs": [
    {
     "name": "stderr",
     "output_type": "stream",
     "text": [
      "[Parallel(n_jobs=1)]: Using backend SequentialBackend with 1 concurrent workers.\n",
      "/usr/local/lib/python3.6/dist-packages/ipykernel_launcher.py:9: UserWarning: Update your `Dense` call to the Keras 2 API: `Dense(activation=\"relu\", input_dim=1800, units=20, kernel_initializer=\"uniform\")`\n",
      "  if __name__ == '__main__':\n",
      "/usr/local/lib/python3.6/dist-packages/ipykernel_launcher.py:10: UserWarning: Update your `Dense` call to the Keras 2 API: `Dense(activation=\"sigmoid\", units=1, kernel_initializer=\"uniform\")`\n",
      "  # Remove the CWD from sys.path while we load stuff.\n",
      "[Parallel(n_jobs=1)]: Done  20 out of  20 | elapsed:  5.2min finished\n",
      "[Parallel(n_jobs=1)]: Using backend SequentialBackend with 1 concurrent workers.\n",
      "[Parallel(n_jobs=1)]: Done  20 out of  20 | elapsed:  6.0min finished\n",
      "[Parallel(n_jobs=1)]: Using backend SequentialBackend with 1 concurrent workers.\n",
      "[Parallel(n_jobs=1)]: Done  20 out of  20 | elapsed:  6.8min finished\n"
     ]
    },
    {
     "data": {
      "text/plain": [
       "[0.9483333333333333, 0.9763333333333334, 0.9786666666666667]"
      ]
     },
     "execution_count": 22,
     "metadata": {
      "tags": []
     },
     "output_type": "execute_result"
    }
   ],
   "source": [
    "# Neural Network after PCA 1800\n",
    "# cross validation for data unscaled and scaled with Standard and Min Max scaler\n",
    "\n",
    "accuracies_neural_net_pca_1800 = []\n",
    "\n",
    "for dt in pca_data_1800:\n",
    "  scores = cross_val_score(nn_clf_pca_1800, dt ,labels ,scoring='accuracy',verbose=1,cv=20)\n",
    "  accuracies_neural_net_pca_1800.append(np.mean(scores)) \n",
    "\n",
    "accuracies_neural_net_pca_1800"
   ]
  },
  {
   "cell_type": "code",
   "execution_count": 0,
   "metadata": {
    "colab": {
     "base_uri": "https://localhost:8080/",
     "height": 224
    },
    "colab_type": "code",
    "id": "VmiF6ZJTQltl",
    "outputId": "e35c61a5-c2f5-4340-b46a-f658cb96c46f"
   },
   "outputs": [
    {
     "name": "stderr",
     "output_type": "stream",
     "text": [
      "[Parallel(n_jobs=1)]: Using backend SequentialBackend with 1 concurrent workers.\n",
      "/usr/local/lib/python3.6/dist-packages/ipykernel_launcher.py:9: UserWarning: Update your `Dense` call to the Keras 2 API: `Dense(activation=\"relu\", input_dim=1330, units=20, kernel_initializer=\"uniform\")`\n",
      "  if __name__ == '__main__':\n",
      "/usr/local/lib/python3.6/dist-packages/ipykernel_launcher.py:10: UserWarning: Update your `Dense` call to the Keras 2 API: `Dense(activation=\"sigmoid\", units=1, kernel_initializer=\"uniform\")`\n",
      "  # Remove the CWD from sys.path while we load stuff.\n",
      "[Parallel(n_jobs=1)]: Done  20 out of  20 | elapsed:  7.3min finished\n",
      "[Parallel(n_jobs=1)]: Using backend SequentialBackend with 1 concurrent workers.\n",
      "[Parallel(n_jobs=1)]: Done  20 out of  20 | elapsed:  7.8min finished\n",
      "[Parallel(n_jobs=1)]: Using backend SequentialBackend with 1 concurrent workers.\n",
      "[Parallel(n_jobs=1)]: Done  20 out of  20 | elapsed:  8.6min finished\n"
     ]
    },
    {
     "data": {
      "text/plain": [
       "[0.9504999999999999, 0.9766666666666668, 0.9780000000000001]"
      ]
     },
     "execution_count": 23,
     "metadata": {
      "tags": []
     },
     "output_type": "execute_result"
    }
   ],
   "source": [
    "# Neural Network after PCA 1330\n",
    "# cross validation for data unscaled and scaled with Standard and Min Max scaler\n",
    "\n",
    "accuracies_neural_net_pca_1330 = []\n",
    "\n",
    "for dt in pca_data_1330:\n",
    "  scores = cross_val_score(nn_clf_pca_1330, dt ,labels ,scoring='accuracy',verbose=1,cv=20)\n",
    "  accuracies_neural_net_pca_1330.append(np.mean(scores)) \n",
    "\n",
    "accuracies_neural_net_pca_1330"
   ]
  },
  {
   "cell_type": "code",
   "execution_count": 0,
   "metadata": {
    "colab": {
     "base_uri": "https://localhost:8080/",
     "height": 281
    },
    "colab_type": "code",
    "id": "IYYyhhndKi-j",
    "outputId": "0e029b30-de9a-46e8-d0a9-d824578c2112"
   },
   "outputs": [
    {
     "data": {
      "image/png": "[encoded data removed]",
      "text/plain": [
       "<Figure size 432x288 with 1 Axes>"
      ]
     },
     "metadata": {
      "tags": []
     },
     "output_type": "display_data"
    }
   ],
   "source": [
    "# Visuals for accuracies before and after PCA for each scaling \n",
    "\n",
    "data_scaler_names = ['Unscaled', 'Standard', 'MinMax']\n",
    "\n",
    "# Naive bayes \n",
    "N = 3\n",
    "ind = np.arange(N) \n",
    "width = 0.2     \n",
    "plt.bar(ind, accuracies_naive_bayes_guassian, width, label='original')\n",
    "plt.bar(ind + width, accuracies_naive_bayes_guassian_pca_3000, width, label='3000')\n",
    "plt.bar(ind + 2*width, accuracies_naive_bayes_guassian_pca_1800, width, label='1800')\n",
    "plt.bar(ind + 3*width, accuracies_naive_bayes_guassian_pca_1330, width, label='1330')\n",
    "\n",
    "\n",
    "plt.ylabel('Accuracy')\n",
    "plt.title('Naive Bayes by Scaler Before and After PCA')\n",
    "\n",
    "plt.xticks(ind + 3*width / 2, data_scaler_names )\n",
    "plt.legend(title = 'components', loc=4)\n",
    "plt.show()"
   ]
  },
  {
   "cell_type": "code",
   "execution_count": 0,
   "metadata": {
    "colab": {
     "base_uri": "https://localhost:8080/",
     "height": 281
    },
    "colab_type": "code",
    "id": "anfZwQjfB-T9",
    "outputId": "25ee342e-3b13-4a2d-9b82-66c6a758a1ae"
   },
   "outputs": [
    {
     "data": {
      "image/png": "[encoded data removed]",
      "text/plain": [
       "<Figure size 432x288 with 1 Axes>"
      ]
     },
     "metadata": {
      "tags": []
     },
     "output_type": "display_data"
    }
   ],
   "source": [
    "# Visuals for accuracies before and after PCA for each scaling \n",
    "\n",
    "data_scaler_names = ['Unscaled', 'Standard', 'MinMax']\n",
    "\n",
    "# Neural Network \n",
    "\n",
    "N = 3\n",
    "ind = np.arange(N) \n",
    "width = 0.2     \n",
    "plt.bar(ind, accuracies_neural_net, width, label='original')\n",
    "plt.bar(ind + width, accuracies_neural_net_pca_3000, width, label='3000')\n",
    "plt.bar(ind + 2*width, accuracies_neural_net_pca_1800, width, label='1800')\n",
    "plt.bar(ind + 3*width, accuracies_neural_net_pca_1330, width, label='1330')\n",
    "\n",
    "plt.ylabel('Accuracy')\n",
    "plt.title('Neural Network by Scaler Before and After PCA')\n",
    "\n",
    "plt.xticks(ind + 3*width / 2, data_scaler_names )\n",
    "plt.legend(title = 'components', loc=4)\n",
    "plt.show()"
   ]
  }
 ],
 "metadata": {
  "colab": {
   "name": "yo_f_ML_coursework_V01_keras_&_scaled",
   "provenance": []
  },
  "kernelspec": {
   "display_name": "Python 3",
   "language": "python",
   "name": "python3"
  },
  "language_info": {
   "codemirror_mode": {
    "name": "ipython",
    "version": 3
   },
   "file_extension": ".py",
   "mimetype": "text/x-python",
   "name": "python",
   "nbconvert_exporter": "python",
   "pygments_lexer": "ipython3",
   "version": "3.7.3"
  }
 },
 "nbformat": 4,
 "nbformat_minor": 1
}
